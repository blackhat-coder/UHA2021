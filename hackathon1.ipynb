{
 "cells": [
  {
   "cell_type": "code",
   "execution_count": 1,
   "metadata": {},
   "outputs": [],
   "source": [
    "import pandas as pd\n",
    "import numpy as np\n",
    "import matplotlib as mpl\n",
    "import matplotlib.pyplot as plt"
   ]
  },
  {
   "source": [
    "train = pd.read_csv('Train.csv')\n",
    "test = pd.read_csv('Test.csv')\n",
    "variables = pd.read_csv('VariableDefinitions (1).csv')"
   ],
   "cell_type": "code",
   "metadata": {},
   "execution_count": 4,
   "outputs": []
  },
  {
   "cell_type": "code",
   "execution_count": 5,
   "metadata": {},
   "outputs": [
    {
     "output_type": "execute_result",
     "data": {
      "text/plain": [
       "                   ID               country  \\\n",
       "0       ID_0000020532               Morocco   \n",
       "1       ID_0000075765               Lebanon   \n",
       "2       ID_0000085491               Morocco   \n",
       "3       ID_0000144505                Canada   \n",
       "4       ID_0000214184                Mexico   \n",
       "...               ...                   ...   \n",
       "104862  ID_9999251978                 India   \n",
       "104863  ID_9999305731  Hong Kong SAR, China   \n",
       "104864  ID_9999406850             Mauritius   \n",
       "104865  ID_9999627239               Germany   \n",
       "104866  ID_9999859033               Vietnam   \n",
       "\n",
       "                                                   region    population   age  \\\n",
       "0       Middle East & North Africa (excluding high inc...  2.555017e+07  66.0   \n",
       "1       Middle East & North Africa (excluding high inc...  4.591023e+06  44.0   \n",
       "2       Middle East & North Africa (excluding high inc...  2.555017e+07  29.0   \n",
       "3                                       High income: OECD  3.049117e+07  44.0   \n",
       "4       Latin America & Caribbean (excluding high income)  9.300232e+07  36.0   \n",
       "...                                                   ...           ...   ...   \n",
       "104862                                         South Asia  9.508153e+08  48.0   \n",
       "104863                               High income: nonOECD  6.522989e+06  16.0   \n",
       "104864         Sub-Saharan Africa (excluding high income)  1.024565e+06  53.0   \n",
       "104865                                  High income: OECD  7.184693e+07  50.0   \n",
       "104866        East Asia & Pacific (excluding high income)  7.130859e+07  60.0   \n",
       "\n",
       "        Q1   Q2   Q3   Q4   Q5  ...  Q21  Q22  Q23  Q24  Q25  Q26  Q27  \\\n",
       "0        2  NaN  NaN  NaN  NaN  ...    1    2  NaN    1    2  2.0  2.0   \n",
       "1        2  NaN  NaN  2.0  2.0  ...    1    2  NaN    2    2  2.0  1.0   \n",
       "2        1  1.0  1.0  2.0  2.0  ...    1    1  2.0    2    2  2.0  NaN   \n",
       "3        1  1.0  1.0  1.0  1.0  ...    1    1  2.0    1    2  NaN  NaN   \n",
       "4        2  NaN  NaN  NaN  NaN  ...    1    2  NaN    1    2  2.0  2.0   \n",
       "...     ..  ...  ...  ...  ...  ...  ...  ...  ...  ...  ...  ...  ...   \n",
       "104862   2  NaN  NaN  NaN  NaN  ...    1    2  NaN    2    2  2.0  2.0   \n",
       "104863   1  1.0  2.0  2.0  2.0  ...    2    1  2.0    1    2  NaN  NaN   \n",
       "104864   1  1.0  2.0  2.0  2.0  ...    2    2  NaN    2    2  NaN  2.0   \n",
       "104865   2  NaN  NaN  NaN  NaN  ...    1    2  NaN    2    2  NaN  1.0   \n",
       "104866   2  NaN  NaN  NaN  NaN  ...    1    1  2.0    1    2  2.0  NaN   \n",
       "\n",
       "        owns_mobile  Q28  target  \n",
       "0               1.0  1.0       0  \n",
       "1               1.0  1.0       1  \n",
       "2               1.0  1.0       0  \n",
       "3               1.0  NaN       1  \n",
       "4               1.0  1.0       1  \n",
       "...             ...  ...     ...  \n",
       "104862          2.0  1.0       0  \n",
       "104863          1.0  NaN       1  \n",
       "104864          2.0  NaN       0  \n",
       "104865          1.0  NaN       1  \n",
       "104866          1.0  1.0       0  \n",
       "\n",
       "[104867 rows x 36 columns]"
      ],
      "text/html": "<div>\n<style scoped>\n    .dataframe tbody tr th:only-of-type {\n        vertical-align: middle;\n    }\n\n    .dataframe tbody tr th {\n        vertical-align: top;\n    }\n\n    .dataframe thead th {\n        text-align: right;\n    }\n</style>\n<table border=\"1\" class=\"dataframe\">\n  <thead>\n    <tr style=\"text-align: right;\">\n      <th></th>\n      <th>ID</th>\n      <th>country</th>\n      <th>region</th>\n      <th>population</th>\n      <th>age</th>\n      <th>Q1</th>\n      <th>Q2</th>\n      <th>Q3</th>\n      <th>Q4</th>\n      <th>Q5</th>\n      <th>...</th>\n      <th>Q21</th>\n      <th>Q22</th>\n      <th>Q23</th>\n      <th>Q24</th>\n      <th>Q25</th>\n      <th>Q26</th>\n      <th>Q27</th>\n      <th>owns_mobile</th>\n      <th>Q28</th>\n      <th>target</th>\n    </tr>\n  </thead>\n  <tbody>\n    <tr>\n      <th>0</th>\n      <td>ID_0000020532</td>\n      <td>Morocco</td>\n      <td>Middle East &amp; North Africa (excluding high inc...</td>\n      <td>2.555017e+07</td>\n      <td>66.0</td>\n      <td>2</td>\n      <td>NaN</td>\n      <td>NaN</td>\n      <td>NaN</td>\n      <td>NaN</td>\n      <td>...</td>\n      <td>1</td>\n      <td>2</td>\n      <td>NaN</td>\n      <td>1</td>\n      <td>2</td>\n      <td>2.0</td>\n      <td>2.0</td>\n      <td>1.0</td>\n      <td>1.0</td>\n      <td>0</td>\n    </tr>\n    <tr>\n      <th>1</th>\n      <td>ID_0000075765</td>\n      <td>Lebanon</td>\n      <td>Middle East &amp; North Africa (excluding high inc...</td>\n      <td>4.591023e+06</td>\n      <td>44.0</td>\n      <td>2</td>\n      <td>NaN</td>\n      <td>NaN</td>\n      <td>2.0</td>\n      <td>2.0</td>\n      <td>...</td>\n      <td>1</td>\n      <td>2</td>\n      <td>NaN</td>\n      <td>2</td>\n      <td>2</td>\n      <td>2.0</td>\n      <td>1.0</td>\n      <td>1.0</td>\n      <td>1.0</td>\n      <td>1</td>\n    </tr>\n    <tr>\n      <th>2</th>\n      <td>ID_0000085491</td>\n      <td>Morocco</td>\n      <td>Middle East &amp; North Africa (excluding high inc...</td>\n      <td>2.555017e+07</td>\n      <td>29.0</td>\n      <td>1</td>\n      <td>1.0</td>\n      <td>1.0</td>\n      <td>2.0</td>\n      <td>2.0</td>\n      <td>...</td>\n      <td>1</td>\n      <td>1</td>\n      <td>2.0</td>\n      <td>2</td>\n      <td>2</td>\n      <td>2.0</td>\n      <td>NaN</td>\n      <td>1.0</td>\n      <td>1.0</td>\n      <td>0</td>\n    </tr>\n    <tr>\n      <th>3</th>\n      <td>ID_0000144505</td>\n      <td>Canada</td>\n      <td>High income: OECD</td>\n      <td>3.049117e+07</td>\n      <td>44.0</td>\n      <td>1</td>\n      <td>1.0</td>\n      <td>1.0</td>\n      <td>1.0</td>\n      <td>1.0</td>\n      <td>...</td>\n      <td>1</td>\n      <td>1</td>\n      <td>2.0</td>\n      <td>1</td>\n      <td>2</td>\n      <td>NaN</td>\n      <td>NaN</td>\n      <td>1.0</td>\n      <td>NaN</td>\n      <td>1</td>\n    </tr>\n    <tr>\n      <th>4</th>\n      <td>ID_0000214184</td>\n      <td>Mexico</td>\n      <td>Latin America &amp; Caribbean (excluding high income)</td>\n      <td>9.300232e+07</td>\n      <td>36.0</td>\n      <td>2</td>\n      <td>NaN</td>\n      <td>NaN</td>\n      <td>NaN</td>\n      <td>NaN</td>\n      <td>...</td>\n      <td>1</td>\n      <td>2</td>\n      <td>NaN</td>\n      <td>1</td>\n      <td>2</td>\n      <td>2.0</td>\n      <td>2.0</td>\n      <td>1.0</td>\n      <td>1.0</td>\n      <td>1</td>\n    </tr>\n    <tr>\n      <th>...</th>\n      <td>...</td>\n      <td>...</td>\n      <td>...</td>\n      <td>...</td>\n      <td>...</td>\n      <td>...</td>\n      <td>...</td>\n      <td>...</td>\n      <td>...</td>\n      <td>...</td>\n      <td>...</td>\n      <td>...</td>\n      <td>...</td>\n      <td>...</td>\n      <td>...</td>\n      <td>...</td>\n      <td>...</td>\n      <td>...</td>\n      <td>...</td>\n      <td>...</td>\n      <td>...</td>\n    </tr>\n    <tr>\n      <th>104862</th>\n      <td>ID_9999251978</td>\n      <td>India</td>\n      <td>South Asia</td>\n      <td>9.508153e+08</td>\n      <td>48.0</td>\n      <td>2</td>\n      <td>NaN</td>\n      <td>NaN</td>\n      <td>NaN</td>\n      <td>NaN</td>\n      <td>...</td>\n      <td>1</td>\n      <td>2</td>\n      <td>NaN</td>\n      <td>2</td>\n      <td>2</td>\n      <td>2.0</td>\n      <td>2.0</td>\n      <td>2.0</td>\n      <td>1.0</td>\n      <td>0</td>\n    </tr>\n    <tr>\n      <th>104863</th>\n      <td>ID_9999305731</td>\n      <td>Hong Kong SAR, China</td>\n      <td>High income: nonOECD</td>\n      <td>6.522989e+06</td>\n      <td>16.0</td>\n      <td>1</td>\n      <td>1.0</td>\n      <td>2.0</td>\n      <td>2.0</td>\n      <td>2.0</td>\n      <td>...</td>\n      <td>2</td>\n      <td>1</td>\n      <td>2.0</td>\n      <td>1</td>\n      <td>2</td>\n      <td>NaN</td>\n      <td>NaN</td>\n      <td>1.0</td>\n      <td>NaN</td>\n      <td>1</td>\n    </tr>\n    <tr>\n      <th>104864</th>\n      <td>ID_9999406850</td>\n      <td>Mauritius</td>\n      <td>Sub-Saharan Africa (excluding high income)</td>\n      <td>1.024565e+06</td>\n      <td>53.0</td>\n      <td>1</td>\n      <td>1.0</td>\n      <td>2.0</td>\n      <td>2.0</td>\n      <td>2.0</td>\n      <td>...</td>\n      <td>2</td>\n      <td>2</td>\n      <td>NaN</td>\n      <td>2</td>\n      <td>2</td>\n      <td>NaN</td>\n      <td>2.0</td>\n      <td>2.0</td>\n      <td>NaN</td>\n      <td>0</td>\n    </tr>\n    <tr>\n      <th>104865</th>\n      <td>ID_9999627239</td>\n      <td>Germany</td>\n      <td>High income: OECD</td>\n      <td>7.184693e+07</td>\n      <td>50.0</td>\n      <td>2</td>\n      <td>NaN</td>\n      <td>NaN</td>\n      <td>NaN</td>\n      <td>NaN</td>\n      <td>...</td>\n      <td>1</td>\n      <td>2</td>\n      <td>NaN</td>\n      <td>2</td>\n      <td>2</td>\n      <td>NaN</td>\n      <td>1.0</td>\n      <td>1.0</td>\n      <td>NaN</td>\n      <td>1</td>\n    </tr>\n    <tr>\n      <th>104866</th>\n      <td>ID_9999859033</td>\n      <td>Vietnam</td>\n      <td>East Asia &amp; Pacific (excluding high income)</td>\n      <td>7.130859e+07</td>\n      <td>60.0</td>\n      <td>2</td>\n      <td>NaN</td>\n      <td>NaN</td>\n      <td>NaN</td>\n      <td>NaN</td>\n      <td>...</td>\n      <td>1</td>\n      <td>1</td>\n      <td>2.0</td>\n      <td>1</td>\n      <td>2</td>\n      <td>2.0</td>\n      <td>NaN</td>\n      <td>1.0</td>\n      <td>1.0</td>\n      <td>0</td>\n    </tr>\n  </tbody>\n</table>\n<p>104867 rows × 36 columns</p>\n</div>"
     },
     "metadata": {},
     "execution_count": 5
    }
   ],
   "source": [
    "\n",
    "train"
   ]
  },
  {
   "cell_type": "code",
   "execution_count": 6,
   "metadata": {},
   "outputs": [
    {
     "output_type": "execute_result",
     "data": {
      "text/plain": [
       "ID                 0\n",
       "country            0\n",
       "region           679\n",
       "population         0\n",
       "age              287\n",
       "Q1                 0\n",
       "Q2             57146\n",
       "Q3             59653\n",
       "Q4             47422\n",
       "Q5             47422\n",
       "Q6                 0\n",
       "Q7             84226\n",
       "Q8             45838\n",
       "Q9             45838\n",
       "Q10a               0\n",
       "Q10b               0\n",
       "Q11                0\n",
       "Q12                0\n",
       "Q13a               0\n",
       "Q14                0\n",
       "Q15                0\n",
       "Q16                0\n",
       "Q17a               0\n",
       "Q17b               0\n",
       "Q19            24173\n",
       "Q20            24173\n",
       "Q21                0\n",
       "Q22                0\n",
       "Q23            67287\n",
       "Q24                0\n",
       "Q25                0\n",
       "Q26            24173\n",
       "Q27            46438\n",
       "owns_mobile        1\n",
       "Q28            31005\n",
       "target             0\n",
       "dtype: int64"
      ]
     },
     "metadata": {},
     "execution_count": 6
    }
   ],
   "source": [
    "train.isnull().sum()"
   ]
  },
  {
   "cell_type": "code",
   "execution_count": 14,
   "metadata": {},
   "outputs": [],
   "source": [
    "f_dataset = train.fillna(-999)\n",
    "f_test = test.fillna(-999)"
   ]
  },
  {
   "cell_type": "code",
   "execution_count": 8,
   "metadata": {},
   "outputs": [
    {
     "output_type": "stream",
     "name": "stdout",
     "text": [
      "3\n33\n"
     ]
    }
   ],
   "source": [
    "cat = [x for x in f_dataset.columns if f_dataset[x].dtype == 'object']\n",
    "numerical = [x for x in f_dataset.columns if f_dataset[x].dtype in ['float64', 'int64']]\n",
    "\n",
    "print(len(cat))\n",
    "print(len(numerical))"
   ]
  },
  {
   "cell_type": "code",
   "execution_count": 9,
   "metadata": {},
   "outputs": [],
   "source": [
    "target = f_dataset['target']\n",
    "f_dataset.drop('target', axis=1, inplace=True)"
   ]
  },
  {
   "cell_type": "code",
   "execution_count": 10,
   "metadata": {},
   "outputs": [],
   "source": [
    "from sklearn.model_selection import train_test_split\n",
    "\n",
    "fx_train , fx_val , fy_train, fy_val = train_test_split(f_dataset, target, test_size=0.3)"
   ]
  },
  {
   "cell_type": "code",
   "execution_count": 11,
   "metadata": {},
   "outputs": [],
   "source": [
    "from catboost import CatBoostClassifier\n",
    "\n",
    "f_model = CatBoostClassifier(\n",
    "    custom_loss = ['Logloss'],\n",
    "    random_seed = 0,\n",
    "    logging_level = 'Silent',\n",
    ")\n",
    "\n",
    "from sklearn.metrics import auc, roc_curve\n",
    "\n",
    "def score(y_predicted, y_actual):\n",
    "    fpr , tpr , threshold = roc_curve(y_actual, y_predicted)\n",
    "#     print(f'fpr: {fpr}')\n",
    "#     print(f'tpr: {tpr}')\n",
    "    \n",
    "    new_score = auc(fpr, tpr)\n",
    "    print(new_score)\n",
    "    "
   ]
  },
  {
   "source": [
    "Filter features by variation"
   ],
   "cell_type": "markdown",
   "metadata": {}
  },
  {
   "cell_type": "code",
   "execution_count": 13,
   "metadata": {},
   "outputs": [
    {
     "output_type": "execute_result",
     "data": {
      "text/plain": [
       "population     4.391240e+16\n",
       "age            3.273528e+03\n",
       "Q1             2.732620e-01\n",
       "Q2             2.480128e+05\n",
       "Q3             2.454090e+05\n",
       "Q4             2.480254e+05\n",
       "Q5             2.479943e+05\n",
       "Q6             1.844452e-01\n",
       "Q7             1.581383e+05\n",
       "Q8             2.461553e+05\n",
       "Q9             2.461466e+05\n",
       "Q10a           1.860812e-01\n",
       "Q10b           1.776560e-01\n",
       "Q11            1.423028e-01\n",
       "Q12            1.958048e-01\n",
       "Q13a           2.103740e-01\n",
       "Q14            1.275806e-01\n",
       "Q15            1.023353e-01\n",
       "Q16            7.212290e-02\n",
       "Q17a           1.216688e-01\n",
       "Q17b           1.907626e-01\n",
       "Q19            1.776638e+05\n",
       "Q20            1.776535e+05\n",
       "Q21            2.666888e-01\n",
       "Q22            2.486345e-01\n",
       "Q23            2.302831e+05\n",
       "Q24            1.407499e-01\n",
       "Q25            1.276488e-01\n",
       "Q26            1.776811e+05\n",
       "Q27            2.471516e+05\n",
       "owns_mobile    9.694686e+00\n",
       "Q28            2.082996e+05\n",
       "dtype: float64"
      ]
     },
     "metadata": {},
     "execution_count": 13
    }
   ],
   "source": [
    "f_dataset.var()"
   ]
  },
  {
   "cell_type": "code",
   "execution_count": 12,
   "metadata": {},
   "outputs": [
    {
     "output_type": "stream",
     "name": "stdout",
     "text": [
      "0.8012863344547163\n"
     ]
    }
   ],
   "source": [
    "def fit_model():\n",
    "    f_model.fit(fx_train, fy_train,\n",
    "                cat_features = cat,\n",
    "                eval_set = (fx_val, fy_val))\n",
    "\n",
    "    f_pred = f_model.predict_proba(fx_val)[:, 1]\n",
    "    score(f_pred, fy_val)\n"
   ]
  },
  {
   "cell_type": "code",
   "execution_count": 16,
   "metadata": {},
   "outputs": [],
   "source": [
    "f_pred = f_model.predict_proba(f_dataset)[:, 1]\n",
    "f_pred_test = f_model.predict_proba(f_test)[:, 1]\n"
   ]
  },
  {
   "cell_type": "markdown",
   "metadata": {},
   "source": [
    "## SECOND DATASET, MEAN ENCODED ETC"
   ]
  },
  {
   "cell_type": "code",
   "execution_count": 43,
   "metadata": {},
   "outputs": [],
   "source": [
    "from sklearn.impute import KNNImputer"
   ]
  },
  {
   "cell_type": "code",
   "execution_count": 80,
   "metadata": {},
   "outputs": [],
   "source": [
    "mean_dataset = pd.concat([train, test], axis=0).reset_index(drop=True)\n",
    "mean_dataset_target = mean_dataset['target']\n",
    "# mean_dataset.drop('target', axis=1, inplace=True)"
   ]
  },
  {
   "cell_type": "code",
   "execution_count": 103,
   "metadata": {},
   "outputs": [],
   "source": [
    "cat_ = [x for x in mean_dataset.columns if mean_dataset[x].dtype == 'object']\n",
    "numerical_ = [x for x in mean_dataset.columns if mean_dataset[x].dtype in ['float64', 'int64']]"
   ]
  },
  {
   "cell_type": "code",
   "execution_count": 48,
   "metadata": {},
   "outputs": [],
   "source": [
    "# imputer = KNNImputer(n_neighbors=2, weights=\"uniform\")\n",
    "# mean_dataset[numerical] = imputer.fit_transform(mean_dataset[numerical])"
   ]
  },
  {
   "cell_type": "code",
   "execution_count": 82,
   "metadata": {},
   "outputs": [],
   "source": [
    "for i in cat:\n",
    "    mean_dataset[i] = mean_dataset[i].interpolate(method='pad', limit=3)\n",
    "\n",
    "for i in numerical:\n",
    "    mean_dataset[i] = mean_dataset[i].interpolate(method='linear')\n",
    "    \n",
    "for i in numerical:\n",
    "    mean_dataset[i] = mean_dataset[i].interpolate(method='pad')"
   ]
  },
  {
   "cell_type": "code",
   "execution_count": 83,
   "metadata": {},
   "outputs": [],
   "source": [
    "mean_dataset['Q2']=mean_dataset['Q2'].fillna(mean_dataset['Q2'].median())\n",
    "mean_dataset['Q3']=mean_dataset['Q3'].fillna(mean_dataset['Q3'].median())\n",
    "mean_dataset['Q4']=mean_dataset['Q4'].fillna(mean_dataset['Q4'].median())\n",
    "mean_dataset['Q5']=mean_dataset['Q5'].fillna(mean_dataset['Q5'].median())\n",
    "mean_dataset['Q7']=mean_dataset['Q7'].fillna(mean_dataset['Q7'].median())\n",
    "mean_dataset['Q8']=mean_dataset['Q8'].fillna(mean_dataset['Q8'].median())\n",
    "mean_dataset['Q9']=mean_dataset['Q9'].fillna(mean_dataset['Q9'].median())\n",
    "mean_dataset['Q23']=mean_dataset['Q23'].fillna(mean_dataset['Q23'].median())\n",
    "\n",
    "# mean_dataset.isnull().sum()"
   ]
  },
  {
   "cell_type": "code",
   "execution_count": 84,
   "metadata": {},
   "outputs": [],
   "source": [
    "country_pop_m = mean_dataset.groupby('country')['population'].mean()\n",
    "country_age_m = mean_dataset.groupby('country')['age'].mean()\n",
    "country_pop_median = mean_dataset.groupby('country')['population'].median()\n",
    "country_age_median = mean_dataset.groupby('country')['age'].median()\n",
    "\n",
    "region_pop = mean_dataset.groupby('region')['population'].mean()\n",
    "region_age = mean_dataset.groupby('region')['age'].mean()\n",
    "region_pop_median = mean_dataset.groupby('region')['population'].median()\n",
    "region_age_median = mean_dataset.groupby('region')['age'].median()\n",
    "\n",
    "# Q4 and Q5\n",
    "\n",
    "mean_dataset['Qcountry_pop'] = mean_dataset['country'].map(country_pop_m)\n",
    "mean_dataset['Qcountry_age'] = mean_dataset['country'].map(country_age_m)\n",
    "mean_dataset['Qregion_pop'] = mean_dataset['region'].map(region_pop)\n",
    "mean_dataset['Qregion_pop'] = mean_dataset['region'].map(region_age)\n",
    "\n",
    "mean_dataset['Qcountry_pop1'] = mean_dataset['country'].map(country_pop_median)\n",
    "mean_dataset['Qcountry_age1'] = mean_dataset['country'].map(country_age_median)\n",
    "mean_dataset['Qregion_pop1'] = mean_dataset['region'].map(region_pop_median)\n",
    "mean_dataset['Qregion_pop1'] = mean_dataset['region'].map(region_age_median)"
   ]
  },
  {
   "cell_type": "code",
   "execution_count": 88,
   "metadata": {},
   "outputs": [
    {
     "name": "stdout",
     "output_type": "stream",
     "text": [
      "(104867, 36)\n",
      "(44943, 35)\n",
      "(149810, 41)\n"
     ]
    }
   ],
   "source": [
    "print(train.shape)\n",
    "print(test.shape)\n",
    "\n",
    "print(mean_dataset.shape)"
   ]
  },
  {
   "cell_type": "code",
   "execution_count": 99,
   "metadata": {},
   "outputs": [
    {
     "name": "stdout",
     "output_type": "stream",
     "text": [
      "(104867, 41)\n",
      "(44943, 41)\n",
      "(149810, 41)\n"
     ]
    }
   ],
   "source": [
    "s = mean_dataset.iloc[:104867, :]\n",
    "s_test = mean_dataset.iloc[104867:, :]\n"
   ]
  },
  {
   "cell_type": "code",
   "execution_count": 110,
   "metadata": {},
   "outputs": [],
   "source": [
    "import lightgbm as lgb\n",
    "\n",
    "sx_train, sx_val, sy_train, sy_val = train_test_split(s, target, test_size=0.3)\n",
    "\n",
    "s_model = CatBoostClassifier(\n",
    "    custom_loss = ['Logloss'],\n",
    "    random_seed = 0,\n",
    "    logging_level = 'Silent',\n",
    ")"
   ]
  },
  {
   "cell_type": "code",
   "execution_count": 111,
   "metadata": {},
   "outputs": [
    {
     "name": "stdout",
     "output_type": "stream",
     "text": [
      "0.7992685526368366\n"
     ]
    }
   ],
   "source": [
    "s_model.fit(sx_train, sy_train,\n",
    "               cat_features = cat_,\n",
    "               eval_set = (sx_val, sy_val))\n",
    "\n",
    "s_pred = s_model.predict_proba(sx_val)[:, 1]\n",
    "score(s_pred, sy_val)"
   ]
  },
  {
   "cell_type": "code",
   "execution_count": 135,
   "metadata": {},
   "outputs": [],
   "source": [
    "s_pred = s_model.predict_proba(s)[:, 1]\n",
    "s_pred_test = s_model.predict_proba(s_test)[:, 1]"
   ]
  },
  {
   "cell_type": "code",
   "execution_count": 112,
   "metadata": {},
   "outputs": [
    {
     "data": {
      "text/plain": [
       "(31461,)"
      ]
     },
     "execution_count": 112,
     "metadata": {},
     "output_type": "execute_result"
    }
   ],
   "source": [
    "s_pred.shape"
   ]
  },
  {
   "cell_type": "code",
   "execution_count": 138,
   "metadata": {},
   "outputs": [],
   "source": [
    "meta_features = pd.DataFrame({'f_pred':f_pred, 's_pred':s_pred})\n",
    "\n",
    "meta_features['sum'] = meta_features['f_pred'] + meta_features['s_pred']\n",
    "meta_features['diff'] = meta_features['f_pred'] - meta_features['s_pred']\n",
    "meta_features['square1'] = np.square(meta_features['f_pred'])\n",
    "meta_features['square2'] = np.square(meta_features['s_pred'])\n",
    "meta_features['divs'] = meta_features['f_pred'] / meta_features['s_pred']"
   ]
  },
  {
   "cell_type": "code",
   "execution_count": 139,
   "metadata": {},
   "outputs": [],
   "source": [
    "from sklearn.linear_model import LogisticRegression\n",
    "\n",
    "meta_learner = LogisticRegression().fit(meta_features, target)\n"
   ]
  },
  {
   "cell_type": "code",
   "execution_count": 141,
   "metadata": {},
   "outputs": [],
   "source": [
    "meta_features_test = pd.DataFrame({'f_pred':f_pred_test, 's_pred':s_pred_test})\n",
    "\n",
    "meta_features_test['sum'] = meta_features_test['f_pred'] + meta_features_test['s_pred']\n",
    "meta_features_test['diff'] = meta_features_test['f_pred'] - meta_features_test['s_pred']\n",
    "meta_features_test['square1'] = np.square(meta_features_test['f_pred'])\n",
    "meta_features_test['square2'] = np.square(meta_features_test['s_pred'])\n",
    "meta_features_test['divs'] = meta_features_test['f_pred'] / meta_features_test['s_pred']"
   ]
  },
  {
   "cell_type": "code",
   "execution_count": 128,
   "metadata": {},
   "outputs": [
    {
     "name": "stdout",
     "output_type": "stream",
     "text": [
      "0.8564797818006407\n"
     ]
    }
   ],
   "source": [
    "chill = meta_learner.predict_proba(meta_features)[:, 1]\n",
    "score(chill, target)"
   ]
  },
  {
   "cell_type": "code",
   "execution_count": 142,
   "metadata": {},
   "outputs": [],
   "source": [
    "test_prediction = meta_learner.predict_proba(meta_features_test)[:, 1]"
   ]
  },
  {
   "cell_type": "markdown",
   "metadata": {},
   "source": [
    "## TESTING "
   ]
  },
  {
   "cell_type": "code",
   "execution_count": 70,
   "metadata": {},
   "outputs": [],
   "source": [
    "new_test = test.fillna(-999)\n",
    "\n",
    "y_pred_test = boost_model.predict_proba(new_test)[:, 1]"
   ]
  },
  {
   "cell_type": "code",
   "execution_count": 75,
   "metadata": {},
   "outputs": [
    {
     "name": "stdout",
     "output_type": "stream",
     "text": [
      "0        ID_0000005111\n",
      "1        ID_0000389416\n",
      "2        ID_0000634789\n",
      "3        ID_0000778100\n",
      "4        ID_0001123210\n",
      "             ...      \n",
      "44938    ID_9998436223\n",
      "44939    ID_9998690942\n",
      "44940    ID_9999258746\n",
      "44941    ID_9999427887\n",
      "44942    ID_9999998408\n",
      "Name: ID, Length: 44943, dtype: object\n"
     ]
    }
   ],
   "source": [
    "print(test.ID)"
   ]
  },
  {
   "cell_type": "code",
   "execution_count": 145,
   "metadata": {},
   "outputs": [],
   "source": [
    "first_sub = pd.DataFrame({'ID':test.ID, 'target':test_prediction})\n",
    "first_sub.to_csv('final_last_submission.csv', index=False)"
   ]
  },
  {
   "cell_type": "code",
   "execution_count": null,
   "metadata": {},
   "outputs": [],
   "source": []
  }
 ],
 "metadata": {
  "kernelspec": {
   "display_name": "condaenv",
   "language": "python",
   "name": "condaenv"
  },
  "language_info": {
   "codemirror_mode": {
    "name": "ipython",
    "version": 3
   },
   "file_extension": ".py",
   "mimetype": "text/x-python",
   "name": "python",
   "nbconvert_exporter": "python",
   "pygments_lexer": "ipython3",
   "version": "3.8.5-final"
  }
 },
 "nbformat": 4,
 "nbformat_minor": 4
}